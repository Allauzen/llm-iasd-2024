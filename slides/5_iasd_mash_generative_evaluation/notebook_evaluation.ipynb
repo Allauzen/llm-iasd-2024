{
 "cells": [
  {
   "cell_type": "code",
   "execution_count": null,
   "metadata": {},
   "outputs": [],
   "source": [
    "%pip install sacrebleu"
   ]
  },
  {
   "cell_type": "code",
   "execution_count": null,
   "metadata": {},
   "outputs": [],
   "source": [
    "from sacrebleu.metrics import BLEU"
   ]
  },
  {
   "cell_type": "code",
   "execution_count": null,
   "metadata": {
    "id": "q-yA2bD4BZ3u"
   },
   "outputs": [],
   "source": [
    "def compute_bleu(reference, candidate):\n",
    "    # Tokenize the reference and candidate texts\n",
    "\n",
    "    # Calculate BLEU score\n",
    "    bleu = BLEU()\n",
    "    bleu_score = bleu.corpus_score([candidate], [[reference]])\n",
    "\n",
    "    return bleu_score.score"
   ]
  },
  {
   "cell_type": "code",
   "execution_count": null,
   "metadata": {
    "id": "ChKllX3pBhip"
   },
   "outputs": [],
   "source": [
    "# Example usage:\n",
    "reference_text = \"The quick brown fox jumps over the lazy dog.\"\n",
    "# candidate_text = \"The quick pink fox jumps over the sleeping dog.\"\n",
    "candidate_text = \"The quick brown fox jumps over the lazy dog.\"\n",
    "bleu_score = compute_bleu(reference_text, candidate_text)\n",
    "print(f\"BLEU Score: {bleu_score}\")"
   ]
  }
 ],
 "metadata": {
  "accelerator": "GPU",
  "colab": {
   "gpuType": "T4",
   "provenance": []
  },
  "kernelspec": {
   "display_name": "llm-course-7UlZO0np-py3.12",
   "language": "python",
   "name": "python3"
  },
  "language_info": {
   "codemirror_mode": {
    "name": "ipython",
    "version": 3
   },
   "file_extension": ".py",
   "mimetype": "text/x-python",
   "name": "python",
   "nbconvert_exporter": "python",
   "pygments_lexer": "ipython3",
   "version": "3.12.7"
  }
 },
 "nbformat": 4,
 "nbformat_minor": 0
}
